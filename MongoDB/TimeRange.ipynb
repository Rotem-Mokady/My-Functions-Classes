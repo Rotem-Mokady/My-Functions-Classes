{
 "cells": [
  {
   "cell_type": "code",
   "execution_count": 36,
   "metadata": {},
   "outputs": [],
   "source": [
    "import pymongo\n",
    "import datetime\n",
    "import pandas as pd\n",
    "from isodate import parse_datetime"
   ]
  },
  {
   "cell_type": "code",
   "execution_count": 37,
   "metadata": {},
   "outputs": [
    {
     "name": "stdout",
     "output_type": "stream",
     "text": [
      "2020-09-18T00:35:20.956312 2020-09-18T00:45:20.957309\n",
      "2020-09-18 00:35:20.956312\n"
     ]
    }
   ],
   "source": [
    "start = datetime.datetime.now() - pd.DateOffset(minutes = 10)\n",
    "start = start.isoformat()\n",
    "end = datetime.datetime.now().isoformat()\n",
    "print(start, end)\n",
    "print(parse_datetime(start))"
   ]
  },
  {
   "cell_type": "code",
   "execution_count": 17,
   "metadata": {},
   "outputs": [],
   "source": [
    "db.collection.find(\n",
    "    { \n",
    "        created_at:  { \n",
    "            \"$gte\" : ISODate(\"{}\".format(start)), \n",
    "            \"$lt\" : ISODate(\"{}\".format(end)) \n",
    "                     } \n",
    "    })"
   ]
  }
 ],
 "metadata": {
  "kernelspec": {
   "display_name": "Python 3",
   "language": "python",
   "name": "python3"
  },
  "language_info": {
   "codemirror_mode": {
    "name": "ipython",
    "version": 3
   },
   "file_extension": ".py",
   "mimetype": "text/x-python",
   "name": "python",
   "nbconvert_exporter": "python",
   "pygments_lexer": "ipython3",
   "version": "3.7.6"
  }
 },
 "nbformat": 4,
 "nbformat_minor": 4
}
