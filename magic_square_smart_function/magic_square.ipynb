{
 "cells": [
  {
   "cell_type": "code",
   "execution_count": null,
   "metadata": {},
   "outputs": [],
   "source": [
    "def magic_square(my_number):\n",
    "    numbers = np.arange(1,my_number**2+1)\n",
    "    array = numbers.reshape(my_number,my_number)\n",
    "    end = []\n",
    "    for i in range(my_number):\n",
    "        idx = 0\n",
    "        for j in array:\n",
    "            end.append(j[(i + idx)%my_number])\n",
    "            idx += my_number - 1 \n",
    "    end = np.array(end).reshape(my_number,my_number)\n",
    "    row = 0\n",
    "    for k in range(len(end[0])):\n",
    "        if end[0][k] == int(np.median(numbers)) + my_number:\n",
    "            index = k\n",
    "            break \n",
    "    cnt = 0\n",
    "    cell = []\n",
    "    finish = []\n",
    "    while cnt < len(numbers):\n",
    "        cell.append(end[row%my_number][index%my_number])\n",
    "        row += 2\n",
    "        index += 1 \n",
    "        cnt += 1\n",
    "        if len(cell) == my_number:\n",
    "            finish.append(cell)\n",
    "            cell = []\n",
    "            index += 1 \n",
    "    finish = np.array(finish).reshape(my_number,my_number)\n",
    "    return finish"
   ]
  }
 ],
 "metadata": {
  "kernelspec": {
   "display_name": "Python 3",
   "language": "python",
   "name": "python3"
  },
  "language_info": {
   "codemirror_mode": {
    "name": "ipython",
    "version": 3
   },
   "file_extension": ".py",
   "mimetype": "text/x-python",
   "name": "python",
   "nbconvert_exporter": "python",
   "pygments_lexer": "ipython3",
   "version": "3.7.6"
  }
 },
 "nbformat": 4,
 "nbformat_minor": 4
}
