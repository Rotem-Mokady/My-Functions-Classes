{
 "cells": [
  {
   "cell_type": "code",
   "execution_count": null,
   "metadata": {},
   "outputs": [],
   "source": [
    "import pandas as pd"
   ]
  },
  {
   "cell_type": "code",
   "execution_count": 7,
   "metadata": {},
   "outputs": [],
   "source": [
    "def mother_of_tables(df,up = True):\n",
    "    \n",
    "    df.dropna(how='all',inplace=True)\n",
    "    df.drop_duplicates(inplace=True)\n",
    "    df.reset_index(drop=True,inplace=True)\n",
    "    \n",
    "    new_columns = []\n",
    "    types = list(df.dtypes)\n",
    "    for i in range(len(df.columns)):\n",
    "        if df.dtypes[str(df.columns[i])] != \"object\":\n",
    "            df[str(df.columns[i])] = df[str(df.columns[i])].astype(\"str\")\n",
    "        if str(df.columns[i]).count(\"Unnamed\") == 0:\n",
    "            new_columns.append(df.columns[i])\n",
    "        else:\n",
    "            new_columns.append(new_columns[len(new_columns) - 1])\n",
    "    \n",
    "    new_values = []\n",
    "    for row in range(len(df.values)):\n",
    "        if list(df.values[row]).count(\"nan\") == 0:\n",
    "            new_values.append(df.values[row])\n",
    "        else:\n",
    "            new_row = []\n",
    "            if row == 0:\n",
    "                for val in range(len(df.values[row])):\n",
    "                    if val == 0 or str(df.values[row][val]) != \"nan\":\n",
    "                        new_row.append(df.values[row][val])\n",
    "                    else:\n",
    "                        new_row.append(new_row[len(new_row) - 1])\n",
    "            else:\n",
    "                for val in range(len(df.values[row])):\n",
    "                    if val == 0:\n",
    "                        if str(df.values[row][val]) != \"nan\":\n",
    "                            new_row.append(str(df.values[row][val]))\n",
    "                        else:\n",
    "                            new_row.append(str(df.values[row-1][val]))\n",
    "                    else:\n",
    "                        if str(df.values[row][val]) != \"nan\":\n",
    "                            new_row.append(str(df.values[row][val]))\n",
    "                        else:\n",
    "                            if up:\n",
    "                                new_row.append(str(df.values[row-1][val]))\n",
    "                            else:\n",
    "                                new_row.append(new_row[len(new_row) - 1])\n",
    "            new_values.append(new_row)\n",
    "    \n",
    "    end = pd.DataFrame(columns = df.columns,data = new_values)\n",
    "    for i in range(len(end.columns)):\n",
    "        if str(types[i]) != \"object\":\n",
    "            end[end.columns[i]] = end[end.columns[i]].astype(str(types[i]))\n",
    "    end.columns = new_columns\n",
    "    \n",
    "    return end"
   ]
  }
 ],
 "metadata": {
  "kernelspec": {
   "display_name": "Python 3",
   "language": "python",
   "name": "python3"
  },
  "language_info": {
   "codemirror_mode": {
    "name": "ipython",
    "version": 3
   },
   "file_extension": ".py",
   "mimetype": "text/x-python",
   "name": "python",
   "nbconvert_exporter": "python",
   "pygments_lexer": "ipython3",
   "version": "3.7.6"
  }
 },
 "nbformat": 4,
 "nbformat_minor": 4
}
